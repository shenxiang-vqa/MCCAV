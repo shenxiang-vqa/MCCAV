{
 "cells": [
  {
   "cell_type": "code",
   "execution_count": 1,
   "id": "37140515-4208-4f27-b626-c14b3be782f9",
   "metadata": {},
   "outputs": [
    {
     "name": "stdout",
     "output_type": "stream",
     "text": [
      "[[3.1118197e-03 3.0767718e-02 9.7904307e-01 ... 1.3863228e-01\n",
      "  0.0000000e+00 4.3884832e-02]\n",
      " [0.0000000e+00 1.6246314e-01 0.0000000e+00 ... 9.5581973e-01\n",
      "  7.8968668e-01 0.0000000e+00]\n",
      " [4.2920079e-02 0.0000000e+00 2.0861022e-02 ... 1.4536228e+00\n",
      "  3.6799884e+00 9.0193339e-02]\n",
      " ...\n",
      " [3.5529900e-01 0.0000000e+00 2.5542220e-02 ... 3.1605742e+00\n",
      "  2.4694767e+00 0.0000000e+00]\n",
      " [4.9177721e-01 3.7332701e-03 7.0062634e-03 ... 6.6205888e+00\n",
      "  1.1366696e+00 0.0000000e+00]\n",
      " [1.5632913e+00 2.2042958e-02 5.6774402e-01 ... 2.6189739e-02\n",
      "  2.2595274e+00 0.0000000e+00]]\n"
     ]
    }
   ],
   "source": [
    "import numpy as np\n",
    "path = 'image/COCO_test2015_000000000245.jpg.npz'\n",
    "\n",
    "a=np.load(path)\n",
    "\n",
    "print(a['x'])"
   ]
  },
  {
   "cell_type": "code",
   "execution_count": 44,
   "id": "b0cebbf0-2791-43bb-ac28-36ebd2e520d2",
   "metadata": {},
   "outputs": [
    {
     "data": {
      "text/plain": [
       "['bbox', 'image_h', 'image_w', 'num_bbox', 'x']"
      ]
     },
     "execution_count": 44,
     "metadata": {},
     "output_type": "execute_result"
    }
   ],
   "source": [
    "sorted(a)"
   ]
  },
  {
   "cell_type": "code",
   "execution_count": 45,
   "id": "3e7625e9-812a-4370-ad6b-db074de25290",
   "metadata": {},
   "outputs": [
    {
     "data": {
      "text/plain": [
       "44"
      ]
     },
     "execution_count": 45,
     "metadata": {},
     "output_type": "execute_result"
    }
   ],
   "source": [
    "bbox = a['bbox']\n",
    "bbox.__len__()"
   ]
  },
  {
   "cell_type": "code",
   "execution_count": 5,
   "id": "d2d403e4-a9c2-4c7d-a810-0f0abc317abd",
   "metadata": {},
   "outputs": [
    {
     "ename": "NameError",
     "evalue": "name 'boxes' is not defined",
     "output_type": "error",
     "traceback": [
      "\u001b[0;31m---------------------------------------------------------------------------\u001b[0m",
      "\u001b[0;31mNameError\u001b[0m                                 Traceback (most recent call last)",
      "Cell \u001b[0;32mIn[5], line 56\u001b[0m\n\u001b[1;32m     53\u001b[0m i \u001b[38;5;241m=\u001b[39m \u001b[38;5;241m4\u001b[39m\n\u001b[1;32m     54\u001b[0m \u001b[38;5;66;03m#bboxes = bbox3\u001b[39;00m\n\u001b[1;32m     55\u001b[0m \u001b[38;5;66;03m#bboxes = bbox[i:i+30]\u001b[39;00m\n\u001b[0;32m---> 56\u001b[0m region_attention_visualization(img_path, save_path, name, \u001b[43mboxes\u001b[49m[\u001b[38;5;241m4\u001b[39m:\u001b[38;5;241m35\u001b[39m], box_attentions\u001b[38;5;241m=\u001b[39mdata, attention_ratio\u001b[38;5;241m=\u001b[39m\u001b[38;5;241m1.5\u001b[39m)\n",
      "\u001b[0;31mNameError\u001b[0m: name 'boxes' is not defined"
     ]
    }
   ],
   "source": [
    "import glob\n",
    "import numpy as np\n",
    "import cv2\n",
    "from PIL import Image\n",
    "import matplotlib.pyplot as plt\n",
    "%matplotlib inline\n",
    "\n",
    "def region_attention_visualization(img_path, save_path, name, boxes, box_attentions, img_ratio=1.5, attention_ratio=1.0):\n",
    "    \"\"\"\n",
    "    img_path: 读取图片的位置\n",
    "    boxes: 一系列 bounding box, 类型 np.int, [x,y,x,y] 前两个表示左上角坐标, 后两个是右下角坐标\n",
    "    box_attentions:  每个box对应的attention值, 类型是list, list中每个index对应一个bounding box的attention\n",
    "    img_ratio: 图片缩放比率（可选）\n",
    "    \"\"\"\n",
    "    print(\"load image from: \", img_path)\n",
    "    # load the image\n",
    "    img = Image.open(img_path, mode='r')\n",
    "    img_h, img_w = img.size[0], img.size[1]\n",
    "    plt.subplots(nrows=1, ncols=1, figsize=(0.02 * img_h, 0.02 * img_w))\n",
    "\n",
    "    # scale the image\n",
    "    img_h, img_w = int(img.size[0] * img_ratio), int(img.size[-1] * img_ratio)\n",
    "    #img = img.resize((img_h, img_w))\n",
    "    plt.imshow(img, alpha=1)\n",
    "    plt.axis('off')\n",
    "\n",
    "    # draw bounding box with attention\n",
    "    img = np.ascontiguousarray(img)  # 将Image.Image类型转化为连续的numpy数组\n",
    "    for box, attention in zip(boxes, box_attentions):\n",
    "        box = cv2.rectangle(img, tuple((int(box[0:1]), int(box[1:2]))), tuple((int(box[2:3]), int(box[3:]))), (255,69,0),1)  # 最后一个值设置为负数, 表示全填充\n",
    "        plt.imshow(box, alpha=attention / attention_ratio)  # add a scale of 2 for better visualization   \n",
    "        #plt.imshow(box )\n",
    "    #                                                                # 0,255,0 GREEN; 0,0,255 BLUE; 255,0,0 RED; 255,255,255 WHITE, 0,255,255\n",
    "\n",
    "    plt.subplots_adjust(top = 1, bottom = 0, right = 1, left = 0, hspace = 0, wspace = 0) \n",
    "    plt.margins(0,0)\n",
    "    plt.gca().xaxis.set_major_locator(plt.NullLocator())\n",
    "    plt.gca().yaxis.set_major_locator(plt.NullLocator())\n",
    "    #plt.savefig(\"4.jpg\", format='jpg', transparent=True, dpi=300, pad_inches = 0)\n",
    "    plt.savefig(save_path +'with_bbox' + name , format='jpg', dpi=300, pad_inches = 0)\n",
    "    plt.show()\n",
    "    \n",
    "if __name__ == \"__main__\":\n",
    "    save_path = 'MCCAV/'\n",
    "    img_path = \"image/COCO_test2015_000000000245.jpg\" \n",
    "    name = img_path.split('/')[-1]\n",
    "    data = np.ones(47)\n",
    "    #boxes = np.array([[14.4, 25, 100, 200], [56, 75, 245, 300]], dtype='int')\n",
    "    #data = [3]\n",
    "    #print(bbox[11:12])\n",
    "    #bboxes = np.array([[228.42996, 202.76163, 370.14774, 343.9732]])\n",
    "    #print(bboxes)\n",
    "    i = 4\n",
    "    #bboxes = bbox3\n",
    "    #bboxes = bbox[i:i+30]\n",
    "    region_attention_visualization(img_path, save_path, name, boxes[4:35], box_attentions=data, attention_ratio=1.5)"
   ]
  },
  {
   "cell_type": "code",
   "execution_count": null,
   "id": "7183454a-d115-40e3-a8c1-f506c12d9dc1",
   "metadata": {},
   "outputs": [],
   "source": []
  }
 ],
 "metadata": {
  "kernelspec": {
   "display_name": "Python 3 (ipykernel)",
   "language": "python",
   "name": "python3"
  },
  "language_info": {
   "codemirror_mode": {
    "name": "ipython",
    "version": 3
   },
   "file_extension": ".py",
   "mimetype": "text/x-python",
   "name": "python",
   "nbconvert_exporter": "python",
   "pygments_lexer": "ipython3",
   "version": "3.9.12"
  }
 },
 "nbformat": 4,
 "nbformat_minor": 5
}
